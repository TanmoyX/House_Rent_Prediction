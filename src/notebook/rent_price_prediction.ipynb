{
 "cells": [
  {
   "cell_type": "code",
   "execution_count": 1,
   "source": [
    "# Import Libraries\r\n",
    "\r\n",
    "import numpy as np\r\n",
    "import pandas as pd\r\n",
    "import os\r\n",
    "import pickle"
   ],
   "outputs": [],
   "metadata": {}
  },
  {
   "cell_type": "code",
   "execution_count": 47,
   "source": [
    "class RentPredictor:\r\n",
    "    def __init__(self):\r\n",
    "        try:\r\n",
    "            self.xgb_model = pickle.load(open(\"../models/XGBoost_Regressor_tunned.pickle\", \"rb\"))\r\n",
    "        except Exception as e:\r\n",
    "            print(\"Error loading XGBoost Model\\n\", e)\r\n",
    "        self.test_df = \"\"\r\n",
    "        self.result_df = \"\"\r\n",
    "\r\n",
    "    def load_test_csv(self, data_path):\r\n",
    "        self.test_df = pd.read_csv(data_path, encoding = \"UTF-8\")\r\n",
    "    \r\n",
    "    def create_premium_house_feature(self, x):\r\n",
    "        if x[\"garage\"] == 1 and x[\"pool\"] == 1 and x[\"fireplace\"] == 1 and x[\"bed\"] > 3 and x[\"bathroom_combined\"] > 3:\r\n",
    "            return 1\r\n",
    "        return 0\r\n",
    "\r\n",
    "    def data_preprocessing(self):\r\n",
    "        self.test_df.drop(['address', 'state'], axis = 1, inplace = True)\r\n",
    "        self.test_df = pd.get_dummies(self.test_df, columns = ['property_type'])\r\n",
    "        self.test_df.drop([\"property_type_Condo\", \"county\", \"city\", \"zipcode\"], axis = 1, inplace = True)\r\n",
    "        self.test_df[\"age\"] = self.test_df[\"yearbuilt\"].apply(lambda x: 2021 - x)\r\n",
    "        self.test_df.drop(['yearbuilt'], axis = 1, inplace = True)\r\n",
    "        self.test_df[\"sqft_per_bed\"] = self.test_df[\"sqft\"] / self.test_df[\"bed\"]\r\n",
    "        self.test_df[\"bathroom_combined\"] = self.test_df[\"bath\"] + (0.5 * self.test_df[\"halfbath\"])\r\n",
    "        self.test_df.drop(['bath', 'halfbath'], axis = 1, inplace = True)\r\n",
    "        self.test_df[\"is_premium_house\"] = self.test_df.apply(self.create_premium_house_feature, axis = 1)\r\n",
    "\r\n",
    "        return\r\n",
    "\r\n",
    "    def init_result_df(self):\r\n",
    "        self.result_df = self.test_df[[\"id\"]].copy()\r\n",
    "        return\r\n",
    "\r\n",
    "    def get_predictions(self):\r\n",
    "        self.test_df.drop(['id'], axis = 1, inplace = True)\r\n",
    "        rent_pred = self.xgb_model.predict(self.test_df)\r\n",
    "        self.result_df[\"rent\"] = rent_pred\r\n",
    "\r\n",
    "        return self.result_df\r\n"
   ],
   "outputs": [],
   "metadata": {}
  },
  {
   "cell_type": "code",
   "execution_count": 49,
   "source": [
    "rent_predictor = RentPredictor()\r\n",
    "rent_predictor.load_test_csv(\"../data/test.csv\")\r\n",
    "rent_predictor.data_preprocessing()\r\n",
    "rent_predictor.init_result_df()\r\n",
    "res = rent_predictor.get_predictions()"
   ],
   "outputs": [],
   "metadata": {}
  },
  {
   "cell_type": "code",
   "execution_count": 50,
   "source": [
    "res.head()"
   ],
   "outputs": [
    {
     "output_type": "execute_result",
     "data": {
      "text/plain": [
       "       id         rent\n",
       "0  test_0  1070.832886\n",
       "1  test_1  1218.617310\n",
       "2  test_2   935.412964\n",
       "3  test_3   891.063293\n",
       "4  test_4   842.345093"
      ],
      "text/html": [
       "<div>\n",
       "<style scoped>\n",
       "    .dataframe tbody tr th:only-of-type {\n",
       "        vertical-align: middle;\n",
       "    }\n",
       "\n",
       "    .dataframe tbody tr th {\n",
       "        vertical-align: top;\n",
       "    }\n",
       "\n",
       "    .dataframe thead th {\n",
       "        text-align: right;\n",
       "    }\n",
       "</style>\n",
       "<table border=\"1\" class=\"dataframe\">\n",
       "  <thead>\n",
       "    <tr style=\"text-align: right;\">\n",
       "      <th></th>\n",
       "      <th>id</th>\n",
       "      <th>rent</th>\n",
       "    </tr>\n",
       "  </thead>\n",
       "  <tbody>\n",
       "    <tr>\n",
       "      <th>0</th>\n",
       "      <td>test_0</td>\n",
       "      <td>1070.832886</td>\n",
       "    </tr>\n",
       "    <tr>\n",
       "      <th>1</th>\n",
       "      <td>test_1</td>\n",
       "      <td>1218.617310</td>\n",
       "    </tr>\n",
       "    <tr>\n",
       "      <th>2</th>\n",
       "      <td>test_2</td>\n",
       "      <td>935.412964</td>\n",
       "    </tr>\n",
       "    <tr>\n",
       "      <th>3</th>\n",
       "      <td>test_3</td>\n",
       "      <td>891.063293</td>\n",
       "    </tr>\n",
       "    <tr>\n",
       "      <th>4</th>\n",
       "      <td>test_4</td>\n",
       "      <td>842.345093</td>\n",
       "    </tr>\n",
       "  </tbody>\n",
       "</table>\n",
       "</div>"
      ]
     },
     "metadata": {},
     "execution_count": 50
    }
   ],
   "metadata": {}
  },
  {
   "cell_type": "code",
   "execution_count": 51,
   "source": [
    "res.to_csv(\"../data/result_submission.csv\", index = False)"
   ],
   "outputs": [],
   "metadata": {}
  },
  {
   "cell_type": "code",
   "execution_count": null,
   "source": [],
   "outputs": [],
   "metadata": {}
  }
 ],
 "metadata": {
  "orig_nbformat": 4,
  "language_info": {
   "name": "python",
   "version": "3.6.13",
   "mimetype": "text/x-python",
   "codemirror_mode": {
    "name": "ipython",
    "version": 3
   },
   "pygments_lexer": "ipython3",
   "nbconvert_exporter": "python",
   "file_extension": ".py"
  },
  "kernelspec": {
   "name": "python3",
   "display_name": "Python 3.6.13 64-bit ('Python36': conda)"
  },
  "interpreter": {
   "hash": "2895be0c99089c413798fb189a8c4fb86dc202427c023ae0b7bd84b81b4d12b4"
  }
 },
 "nbformat": 4,
 "nbformat_minor": 2
}